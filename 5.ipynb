{
 "cells": [
  {
   "cell_type": "markdown",
   "id": "a80ec13e",
   "metadata": {},
   "source": [
    "In Python, you can create a pool of worker processes using the multiprocessing.Pool class from the multiprocessing module. The Pool class provides a high-level interface for creating and managing a pool of worker processes. Here's an example of how to create a pool of worker processes:"
   ]
  },
  {
   "cell_type": "code",
   "execution_count": null,
   "id": "9a7c9747",
   "metadata": {},
   "outputs": [],
   "source": [
    "import multiprocessing\n",
    "\n",
    "def square_number(x):\n",
    "    return x ** 2\n",
    "\n",
    "if __name__ == '__main__':\n",
    "    # Create a pool with 4 worker processes\n",
    "    pool = multiprocessing.Pool(processes=4)\n",
    "\n",
    "    # Create a list of numbers\n",
    "    numbers = [1, 2, 3, 4, 5]\n",
    "\n",
    "    # Apply the square_number function to the numbers using the pool\n",
    "    results = pool.map(square_number, numbers)\n",
    "\n",
    "    # Close the pool to indicate that no more tasks will be submitted\n",
    "    pool.close()\n",
    "\n",
    "    # Wait for all the worker processes to complete\n",
    "    pool.join()\n",
    "\n",
    "    print(\"Squared numbers:\", results)\n"
   ]
  },
  {
   "cell_type": "code",
   "execution_count": null,
   "id": "fbb3f881",
   "metadata": {},
   "outputs": [],
   "source": []
  }
 ],
 "metadata": {
  "kernelspec": {
   "display_name": "Python 3 (ipykernel)",
   "language": "python",
   "name": "python3"
  },
  "language_info": {
   "codemirror_mode": {
    "name": "ipython",
    "version": 3
   },
   "file_extension": ".py",
   "mimetype": "text/x-python",
   "name": "python",
   "nbconvert_exporter": "python",
   "pygments_lexer": "ipython3",
   "version": "3.10.9"
  }
 },
 "nbformat": 4,
 "nbformat_minor": 5
}
