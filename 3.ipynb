{
 "cells": [
  {
   "cell_type": "markdown",
   "id": "7ddbed7e",
   "metadata": {},
   "source": [
    "Here's an example of Python code that demonstrates how to create a process using the multiprocessing module:"
   ]
  },
  {
   "cell_type": "code",
   "execution_count": 1,
   "id": "a7a5f53f",
   "metadata": {},
   "outputs": [
    {
     "name": "stdout",
     "output_type": "stream",
     "text": [
      "Process completed.\n"
     ]
    }
   ],
   "source": [
    "import multiprocessing\n",
    "\n",
    "def square_numbers(numbers):\n",
    "    squared = [num ** 2 for num in numbers]\n",
    "    print(\"Squared numbers:\", squared)\n",
    "\n",
    "if __name__ == '__main__':\n",
    "    numbers = [1, 2, 3, 4, 5]\n",
    "\n",
    "    # Create a process\n",
    "    process = multiprocessing.Process(target=square_numbers, args=(numbers,))\n",
    "\n",
    "    # Start the process\n",
    "    process.start()\n",
    "\n",
    "    # Wait for the process to finish\n",
    "    process.join()\n",
    "\n",
    "    print(\"Process completed.\")\n"
   ]
  },
  {
   "cell_type": "code",
   "execution_count": null,
   "id": "12115a9f",
   "metadata": {},
   "outputs": [],
   "source": []
  }
 ],
 "metadata": {
  "kernelspec": {
   "display_name": "Python 3 (ipykernel)",
   "language": "python",
   "name": "python3"
  },
  "language_info": {
   "codemirror_mode": {
    "name": "ipython",
    "version": 3
   },
   "file_extension": ".py",
   "mimetype": "text/x-python",
   "name": "python",
   "nbconvert_exporter": "python",
   "pygments_lexer": "ipython3",
   "version": "3.10.9"
  }
 },
 "nbformat": 4,
 "nbformat_minor": 5
}
